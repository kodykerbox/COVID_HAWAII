{
  "nbformat": 4,
  "nbformat_minor": 0,
  "metadata": {
    "colab": {
      "name": "Copy of Copy of Covid-19-Hawaii.ipynb",
      "provenance": [],
      "collapsed_sections": [],
      "include_colab_link": true
    },
    "kernelspec": {
      "name": "python3",
      "display_name": "Python 3"
    }
  },
  "cells": [
    {
      "cell_type": "markdown",
      "metadata": {
        "id": "view-in-github",
        "colab_type": "text"
      },
      "source": [
        "<a href=\"https://colab.research.google.com/github/kodykerbox/COVID_HAWAII/blob/master/Covid_19_Hawaii.ipynb\" target=\"_parent\"><img src=\"https://colab.research.google.com/assets/colab-badge.svg\" alt=\"Open In Colab\"/></a>"
      ]
    },
    {
      "cell_type": "markdown",
      "metadata": {
        "id": "7CXyKDfqXNjs",
        "colab_type": "text"
      },
      "source": [
        "[link text](https://)Covid-19 Analysis - 4/30/20 by KK\n",
        "\n",
        "Source: The original code for the national data is from Noah Gift's book on Minimal Python. Github Source - https://github.com/debasisb/minimal-python/blob/master/Chapter7_data_science.ipynb\n"
      ]
    },
    {
      "cell_type": "markdown",
      "metadata": {
        "id": "8TjEPd1-XqRu",
        "colab_type": "text"
      },
      "source": [
        "Import pandas and create a dataframe df for the US Covid-19 data from the NY Times GitHub content"
      ]
    },
    {
      "cell_type": "code",
      "metadata": {
        "id": "I0nWZE0mLDIb",
        "colab_type": "code",
        "outputId": "fdef9b68-2480-4c08-880d-050b6f31dcbe",
        "colab": {
          "base_uri": "https://localhost:8080/",
          "height": 669
        }
      },
      "source": [
        "import pandas as pd\n",
        "df = pd.read_csv(\"https://raw.githubusercontent.com/nytimes/covid-19-data/master/us-states.csv\")\n",
        "df.head(20)"
      ],
      "execution_count": 0,
      "outputs": [
        {
          "output_type": "execute_result",
          "data": {
            "text/html": [
              "<div>\n",
              "<style scoped>\n",
              "    .dataframe tbody tr th:only-of-type {\n",
              "        vertical-align: middle;\n",
              "    }\n",
              "\n",
              "    .dataframe tbody tr th {\n",
              "        vertical-align: top;\n",
              "    }\n",
              "\n",
              "    .dataframe thead th {\n",
              "        text-align: right;\n",
              "    }\n",
              "</style>\n",
              "<table border=\"1\" class=\"dataframe\">\n",
              "  <thead>\n",
              "    <tr style=\"text-align: right;\">\n",
              "      <th></th>\n",
              "      <th>date</th>\n",
              "      <th>state</th>\n",
              "      <th>fips</th>\n",
              "      <th>cases</th>\n",
              "      <th>deaths</th>\n",
              "    </tr>\n",
              "  </thead>\n",
              "  <tbody>\n",
              "    <tr>\n",
              "      <th>0</th>\n",
              "      <td>2020-01-21</td>\n",
              "      <td>Washington</td>\n",
              "      <td>53</td>\n",
              "      <td>1</td>\n",
              "      <td>0</td>\n",
              "    </tr>\n",
              "    <tr>\n",
              "      <th>1</th>\n",
              "      <td>2020-01-22</td>\n",
              "      <td>Washington</td>\n",
              "      <td>53</td>\n",
              "      <td>1</td>\n",
              "      <td>0</td>\n",
              "    </tr>\n",
              "    <tr>\n",
              "      <th>2</th>\n",
              "      <td>2020-01-23</td>\n",
              "      <td>Washington</td>\n",
              "      <td>53</td>\n",
              "      <td>1</td>\n",
              "      <td>0</td>\n",
              "    </tr>\n",
              "    <tr>\n",
              "      <th>3</th>\n",
              "      <td>2020-01-24</td>\n",
              "      <td>Illinois</td>\n",
              "      <td>17</td>\n",
              "      <td>1</td>\n",
              "      <td>0</td>\n",
              "    </tr>\n",
              "    <tr>\n",
              "      <th>4</th>\n",
              "      <td>2020-01-24</td>\n",
              "      <td>Washington</td>\n",
              "      <td>53</td>\n",
              "      <td>1</td>\n",
              "      <td>0</td>\n",
              "    </tr>\n",
              "    <tr>\n",
              "      <th>5</th>\n",
              "      <td>2020-01-25</td>\n",
              "      <td>California</td>\n",
              "      <td>6</td>\n",
              "      <td>1</td>\n",
              "      <td>0</td>\n",
              "    </tr>\n",
              "    <tr>\n",
              "      <th>6</th>\n",
              "      <td>2020-01-25</td>\n",
              "      <td>Illinois</td>\n",
              "      <td>17</td>\n",
              "      <td>1</td>\n",
              "      <td>0</td>\n",
              "    </tr>\n",
              "    <tr>\n",
              "      <th>7</th>\n",
              "      <td>2020-01-25</td>\n",
              "      <td>Washington</td>\n",
              "      <td>53</td>\n",
              "      <td>1</td>\n",
              "      <td>0</td>\n",
              "    </tr>\n",
              "    <tr>\n",
              "      <th>8</th>\n",
              "      <td>2020-01-26</td>\n",
              "      <td>Arizona</td>\n",
              "      <td>4</td>\n",
              "      <td>1</td>\n",
              "      <td>0</td>\n",
              "    </tr>\n",
              "    <tr>\n",
              "      <th>9</th>\n",
              "      <td>2020-01-26</td>\n",
              "      <td>California</td>\n",
              "      <td>6</td>\n",
              "      <td>2</td>\n",
              "      <td>0</td>\n",
              "    </tr>\n",
              "    <tr>\n",
              "      <th>10</th>\n",
              "      <td>2020-01-26</td>\n",
              "      <td>Illinois</td>\n",
              "      <td>17</td>\n",
              "      <td>1</td>\n",
              "      <td>0</td>\n",
              "    </tr>\n",
              "    <tr>\n",
              "      <th>11</th>\n",
              "      <td>2020-01-26</td>\n",
              "      <td>Washington</td>\n",
              "      <td>53</td>\n",
              "      <td>1</td>\n",
              "      <td>0</td>\n",
              "    </tr>\n",
              "    <tr>\n",
              "      <th>12</th>\n",
              "      <td>2020-01-27</td>\n",
              "      <td>Arizona</td>\n",
              "      <td>4</td>\n",
              "      <td>1</td>\n",
              "      <td>0</td>\n",
              "    </tr>\n",
              "    <tr>\n",
              "      <th>13</th>\n",
              "      <td>2020-01-27</td>\n",
              "      <td>California</td>\n",
              "      <td>6</td>\n",
              "      <td>2</td>\n",
              "      <td>0</td>\n",
              "    </tr>\n",
              "    <tr>\n",
              "      <th>14</th>\n",
              "      <td>2020-01-27</td>\n",
              "      <td>Illinois</td>\n",
              "      <td>17</td>\n",
              "      <td>1</td>\n",
              "      <td>0</td>\n",
              "    </tr>\n",
              "    <tr>\n",
              "      <th>15</th>\n",
              "      <td>2020-01-27</td>\n",
              "      <td>Washington</td>\n",
              "      <td>53</td>\n",
              "      <td>1</td>\n",
              "      <td>0</td>\n",
              "    </tr>\n",
              "    <tr>\n",
              "      <th>16</th>\n",
              "      <td>2020-01-28</td>\n",
              "      <td>Arizona</td>\n",
              "      <td>4</td>\n",
              "      <td>1</td>\n",
              "      <td>0</td>\n",
              "    </tr>\n",
              "    <tr>\n",
              "      <th>17</th>\n",
              "      <td>2020-01-28</td>\n",
              "      <td>California</td>\n",
              "      <td>6</td>\n",
              "      <td>2</td>\n",
              "      <td>0</td>\n",
              "    </tr>\n",
              "    <tr>\n",
              "      <th>18</th>\n",
              "      <td>2020-01-28</td>\n",
              "      <td>Illinois</td>\n",
              "      <td>17</td>\n",
              "      <td>1</td>\n",
              "      <td>0</td>\n",
              "    </tr>\n",
              "    <tr>\n",
              "      <th>19</th>\n",
              "      <td>2020-01-28</td>\n",
              "      <td>Washington</td>\n",
              "      <td>53</td>\n",
              "      <td>1</td>\n",
              "      <td>0</td>\n",
              "    </tr>\n",
              "  </tbody>\n",
              "</table>\n",
              "</div>"
            ],
            "text/plain": [
              "          date       state  fips  cases  deaths\n",
              "0   2020-01-21  Washington    53      1       0\n",
              "1   2020-01-22  Washington    53      1       0\n",
              "2   2020-01-23  Washington    53      1       0\n",
              "3   2020-01-24    Illinois    17      1       0\n",
              "4   2020-01-24  Washington    53      1       0\n",
              "5   2020-01-25  California     6      1       0\n",
              "6   2020-01-25    Illinois    17      1       0\n",
              "7   2020-01-25  Washington    53      1       0\n",
              "8   2020-01-26     Arizona     4      1       0\n",
              "9   2020-01-26  California     6      2       0\n",
              "10  2020-01-26    Illinois    17      1       0\n",
              "11  2020-01-26  Washington    53      1       0\n",
              "12  2020-01-27     Arizona     4      1       0\n",
              "13  2020-01-27  California     6      2       0\n",
              "14  2020-01-27    Illinois    17      1       0\n",
              "15  2020-01-27  Washington    53      1       0\n",
              "16  2020-01-28     Arizona     4      1       0\n",
              "17  2020-01-28  California     6      2       0\n",
              "18  2020-01-28    Illinois    17      1       0\n",
              "19  2020-01-28  Washington    53      1       0"
            ]
          },
          "metadata": {
            "tags": []
          },
          "execution_count": 2
        }
      ]
    },
    {
      "cell_type": "markdown",
      "metadata": {
        "id": "UIdyIaYaX49x",
        "colab_type": "text"
      },
      "source": [
        "Display the columns of the data frame df. Shape is the dimensions of the data frame selected or the # rows and # of columns"
      ]
    },
    {
      "cell_type": "code",
      "metadata": {
        "id": "PU1XbMQNLUCm",
        "colab_type": "code",
        "outputId": "26b7d743-ea79-4a4d-9f13-702868da2541",
        "colab": {
          "base_uri": "https://localhost:8080/",
          "height": 34
        }
      },
      "source": [
        "df.columns"
      ],
      "execution_count": 0,
      "outputs": [
        {
          "output_type": "execute_result",
          "data": {
            "text/plain": [
              "Index(['date', 'state', 'fips', 'cases', 'deaths'], dtype='object')"
            ]
          },
          "metadata": {
            "tags": []
          },
          "execution_count": 3
        }
      ]
    },
    {
      "cell_type": "code",
      "metadata": {
        "id": "HpwaHJjzx03V",
        "colab_type": "code",
        "outputId": "6c49b9f4-e57a-4df7-8dff-8d7746ab21b7",
        "colab": {
          "base_uri": "https://localhost:8080/",
          "height": 34
        }
      },
      "source": [
        "df.shape"
      ],
      "execution_count": 0,
      "outputs": [
        {
          "output_type": "execute_result",
          "data": {
            "text/plain": [
              "(3204, 5)"
            ]
          },
          "metadata": {
            "tags": []
          },
          "execution_count": 4
        }
      ]
    },
    {
      "cell_type": "markdown",
      "metadata": {
        "id": "2_skgaNjYJY9",
        "colab_type": "text"
      },
      "source": [
        "The Seaborn visualization package, is a plotting and graphical package that is used to display data on histograms, scatterplot etc."
      ]
    },
    {
      "cell_type": "code",
      "metadata": {
        "id": "0Ya4GMUfLXvW",
        "colab_type": "code",
        "outputId": "98ee9690-cbfa-44de-c215-bafd0183f045",
        "colab": {
          "base_uri": "https://localhost:8080/",
          "height": 350
        }
      },
      "source": [
        "import seaborn as sns\n",
        "sns.scatterplot (x=\"cases\", y=\"deaths\", \n",
        "                hue=\"deaths\",size=\"deaths\", data=df)"
      ],
      "execution_count": 0,
      "outputs": [
        {
          "output_type": "stream",
          "text": [
            "/usr/local/lib/python3.6/dist-packages/statsmodels/tools/_testing.py:19: FutureWarning: pandas.util.testing is deprecated. Use the functions in the public API at pandas.testing instead.\n",
            "  import pandas.util.testing as tm\n"
          ],
          "name": "stderr"
        },
        {
          "output_type": "execute_result",
          "data": {
            "text/plain": [
              "<matplotlib.axes._subplots.AxesSubplot at 0x7f967d82a6a0>"
            ]
          },
          "metadata": {
            "tags": []
          },
          "execution_count": 5
        },
        {
          "output_type": "display_data",
          "data": {
            "image/png": "[encoded data removed]",
            "text/plain": [
              "<Figure size 432x288 with 1 Axes>"
            ]
          },
          "metadata": {
            "tags": [],
            "needs_background": "light"
          }
        }
      ]
    },
    {
      "cell_type": "markdown",
      "metadata": {
        "id": "G8Ylm0vIZAi9",
        "colab_type": "text"
      },
      "source": [
        "Create an index of Dates from the source of the data till latest date"
      ]
    },
    {
      "cell_type": "code",
      "metadata": {
        "id": "nAp3c0o3M2B9",
        "colab_type": "code",
        "outputId": "23200256-ab20-4289-d314-59945933a0f5",
        "colab": {
          "base_uri": "https://localhost:8080/",
          "height": 170
        }
      },
      "source": [
        "df = pd.read_csv(\"https://raw.githubusercontent.com/nytimes/covid-19-data/master/us-states.csv\")\n",
        "df[\"date\"] = pd.to_datetime(df[\"date\"])\n",
        "df = df.set_index(\"date\")\n",
        "print(f\"Columns: {df.columns}\")\n",
        "df.index"
      ],
      "execution_count": 0,
      "outputs": [
        {
          "output_type": "stream",
          "text": [
            "Columns: Index(['state', 'fips', 'cases', 'deaths'], dtype='object')\n"
          ],
          "name": "stdout"
        },
        {
          "output_type": "execute_result",
          "data": {
            "text/plain": [
              "DatetimeIndex(['2020-01-21', '2020-01-22', '2020-01-23', '2020-01-24',\n",
              "               '2020-01-24', '2020-01-25', '2020-01-25', '2020-01-25',\n",
              "               '2020-01-26', '2020-01-26',\n",
              "               ...\n",
              "               '2020-04-29', '2020-04-29', '2020-04-29', '2020-04-29',\n",
              "               '2020-04-29', '2020-04-29', '2020-04-29', '2020-04-29',\n",
              "               '2020-04-29', '2020-04-29'],\n",
              "              dtype='datetime64[ns]', name='date', length=3204, freq=None)"
            ]
          },
          "metadata": {
            "tags": []
          },
          "execution_count": 6
        }
      ]
    },
    {
      "cell_type": "markdown",
      "metadata": {
        "id": "GhnSoCPxZKk2",
        "colab_type": "text"
      },
      "source": [
        "Create the date for today, and the date two days ago (for the latest data for 2 days)"
      ]
    },
    {
      "cell_type": "code",
      "metadata": {
        "id": "1VwX1t6LNBYI",
        "colab_type": "code",
        "outputId": "2c9463fc-b7f6-45c8-ac1a-c98f3d92e529",
        "colab": {
          "base_uri": "https://localhost:8080/",
          "height": 51
        }
      },
      "source": [
        "from datetime import date, timedelta\n",
        "today = date.today()\n",
        "daybefore = today - timedelta(days = 2)\n",
        "print(f\"Today {today}\")\n",
        "print(f\"Two days ago {daybefore}\")"
      ],
      "execution_count": 0,
      "outputs": [
        {
          "output_type": "stream",
          "text": [
            "Today 2020-04-30\n",
            "Two days ago 2020-04-28\n"
          ],
          "name": "stdout"
        }
      ]
    },
    {
      "cell_type": "markdown",
      "metadata": {
        "id": "r1KsbzFIZm7b",
        "colab_type": "text"
      },
      "source": [
        "Display the top 10 rows of data or head(10), bottom rows is tail()"
      ]
    },
    {
      "cell_type": "code",
      "metadata": {
        "id": "o7uEH2qKNfYQ",
        "colab_type": "code",
        "outputId": "f02fea6a-3dc5-49e2-e87a-62560ad2dd57",
        "colab": {
          "base_uri": "https://localhost:8080/",
          "height": 390
        }
      },
      "source": [
        "df.loc[daybefore:today].head(10)"
      ],
      "execution_count": 0,
      "outputs": [
        {
          "output_type": "execute_result",
          "data": {
            "text/html": [
              "<div>\n",
              "<style scoped>\n",
              "    .dataframe tbody tr th:only-of-type {\n",
              "        vertical-align: middle;\n",
              "    }\n",
              "\n",
              "    .dataframe tbody tr th {\n",
              "        vertical-align: top;\n",
              "    }\n",
              "\n",
              "    .dataframe thead th {\n",
              "        text-align: right;\n",
              "    }\n",
              "</style>\n",
              "<table border=\"1\" class=\"dataframe\">\n",
              "  <thead>\n",
              "    <tr style=\"text-align: right;\">\n",
              "      <th></th>\n",
              "      <th>state</th>\n",
              "      <th>fips</th>\n",
              "      <th>cases</th>\n",
              "      <th>deaths</th>\n",
              "    </tr>\n",
              "    <tr>\n",
              "      <th>date</th>\n",
              "      <th></th>\n",
              "      <th></th>\n",
              "      <th></th>\n",
              "      <th></th>\n",
              "    </tr>\n",
              "  </thead>\n",
              "  <tbody>\n",
              "    <tr>\n",
              "      <th>2020-04-28</th>\n",
              "      <td>Alabama</td>\n",
              "      <td>1</td>\n",
              "      <td>6750</td>\n",
              "      <td>242</td>\n",
              "    </tr>\n",
              "    <tr>\n",
              "      <th>2020-04-28</th>\n",
              "      <td>Alaska</td>\n",
              "      <td>2</td>\n",
              "      <td>349</td>\n",
              "      <td>7</td>\n",
              "    </tr>\n",
              "    <tr>\n",
              "      <th>2020-04-28</th>\n",
              "      <td>Arizona</td>\n",
              "      <td>4</td>\n",
              "      <td>6948</td>\n",
              "      <td>297</td>\n",
              "    </tr>\n",
              "    <tr>\n",
              "      <th>2020-04-28</th>\n",
              "      <td>Arkansas</td>\n",
              "      <td>5</td>\n",
              "      <td>3127</td>\n",
              "      <td>57</td>\n",
              "    </tr>\n",
              "    <tr>\n",
              "      <th>2020-04-28</th>\n",
              "      <td>California</td>\n",
              "      <td>6</td>\n",
              "      <td>46570</td>\n",
              "      <td>1884</td>\n",
              "    </tr>\n",
              "    <tr>\n",
              "      <th>2020-04-28</th>\n",
              "      <td>Colorado</td>\n",
              "      <td>8</td>\n",
              "      <td>14239</td>\n",
              "      <td>734</td>\n",
              "    </tr>\n",
              "    <tr>\n",
              "      <th>2020-04-28</th>\n",
              "      <td>Connecticut</td>\n",
              "      <td>9</td>\n",
              "      <td>26312</td>\n",
              "      <td>2089</td>\n",
              "    </tr>\n",
              "    <tr>\n",
              "      <th>2020-04-28</th>\n",
              "      <td>Delaware</td>\n",
              "      <td>10</td>\n",
              "      <td>4575</td>\n",
              "      <td>137</td>\n",
              "    </tr>\n",
              "    <tr>\n",
              "      <th>2020-04-28</th>\n",
              "      <td>District of Columbia</td>\n",
              "      <td>11</td>\n",
              "      <td>3994</td>\n",
              "      <td>190</td>\n",
              "    </tr>\n",
              "    <tr>\n",
              "      <th>2020-04-28</th>\n",
              "      <td>Florida</td>\n",
              "      <td>12</td>\n",
              "      <td>32838</td>\n",
              "      <td>1170</td>\n",
              "    </tr>\n",
              "  </tbody>\n",
              "</table>\n",
              "</div>"
            ],
            "text/plain": [
              "                           state  fips  cases  deaths\n",
              "date                                                 \n",
              "2020-04-28               Alabama     1   6750     242\n",
              "2020-04-28                Alaska     2    349       7\n",
              "2020-04-28               Arizona     4   6948     297\n",
              "2020-04-28              Arkansas     5   3127      57\n",
              "2020-04-28            California     6  46570    1884\n",
              "2020-04-28              Colorado     8  14239     734\n",
              "2020-04-28           Connecticut     9  26312    2089\n",
              "2020-04-28              Delaware    10   4575     137\n",
              "2020-04-28  District of Columbia    11   3994     190\n",
              "2020-04-28               Florida    12  32838    1170"
            ]
          },
          "metadata": {
            "tags": []
          },
          "execution_count": 9
        }
      ]
    },
    {
      "cell_type": "code",
      "metadata": {
        "id": "dJpmfYbKNj9R",
        "colab_type": "code",
        "outputId": "948071d0-9f03-4fc0-f8ba-2ccd74963634",
        "colab": {
          "base_uri": "https://localhost:8080/",
          "height": 282
        }
      },
      "source": [
        "sns.kdeplot(df.loc[daybefore:today][\"deaths\"], shade=True)"
      ],
      "execution_count": 0,
      "outputs": [
        {
          "output_type": "execute_result",
          "data": {
            "text/plain": [
              "<matplotlib.axes._subplots.AxesSubplot at 0x7f96881c1f98>"
            ]
          },
          "metadata": {
            "tags": []
          },
          "execution_count": 10
        },
        {
          "output_type": "display_data",
          "data": {
            "image/png": "[encoded data removed]",
            "text/plain": [
              "<Figure size 432x288 with 1 Axes>"
            ]
          },
          "metadata": {
            "tags": [],
            "needs_background": "light"
          }
        }
      ]
    },
    {
      "cell_type": "code",
      "metadata": {
        "id": "FIUEiH3TZzBB",
        "colab_type": "code",
        "outputId": "ed7a2eac-87a6-4654-87bc-21070b269230",
        "colab": {
          "base_uri": "https://localhost:8080/",
          "height": 293
        }
      },
      "source": [
        "sns.kdeplot(df.loc[daybefore:today][\"cases\"], shade=True)"
      ],
      "execution_count": 0,
      "outputs": [
        {
          "output_type": "execute_result",
          "data": {
            "text/plain": [
              "<matplotlib.axes._subplots.AxesSubplot at 0x7f967aa105c0>"
            ]
          },
          "metadata": {
            "tags": []
          },
          "execution_count": 11
        },
        {
          "output_type": "display_data",
          "data": {
            "image/png": "[encoded data removed]",
            "text/plain": [
              "<Figure size 432x288 with 1 Axes>"
            ]
          },
          "metadata": {
            "tags": [],
            "needs_background": "light"
          }
        }
      ]
    },
    {
      "cell_type": "markdown",
      "metadata": {
        "id": "v5TJB9l5adf7",
        "colab_type": "text"
      },
      "source": [
        "Create a data frame the identifies the top 10 states, sort by deaths and cases"
      ]
    },
    {
      "cell_type": "code",
      "metadata": {
        "id": "UaD93U-mNoea",
        "colab_type": "code",
        "outputId": "6d1db6d2-059f-4ab5-a0ee-c87fb6f3b097",
        "colab": {
          "base_uri": "https://localhost:8080/",
          "height": 390
        }
      },
      "source": [
        "current_df = df.loc[daybefore:today].sort_values(by=[\"deaths\", \"cases\"], ascending=False)\n",
        "current_df.head(10)"
      ],
      "execution_count": 0,
      "outputs": [
        {
          "output_type": "execute_result",
          "data": {
            "text/html": [
              "<div>\n",
              "<style scoped>\n",
              "    .dataframe tbody tr th:only-of-type {\n",
              "        vertical-align: middle;\n",
              "    }\n",
              "\n",
              "    .dataframe tbody tr th {\n",
              "        vertical-align: top;\n",
              "    }\n",
              "\n",
              "    .dataframe thead th {\n",
              "        text-align: right;\n",
              "    }\n",
              "</style>\n",
              "<table border=\"1\" class=\"dataframe\">\n",
              "  <thead>\n",
              "    <tr style=\"text-align: right;\">\n",
              "      <th></th>\n",
              "      <th>state</th>\n",
              "      <th>fips</th>\n",
              "      <th>cases</th>\n",
              "      <th>deaths</th>\n",
              "    </tr>\n",
              "    <tr>\n",
              "      <th>date</th>\n",
              "      <th></th>\n",
              "      <th></th>\n",
              "      <th></th>\n",
              "      <th></th>\n",
              "    </tr>\n",
              "  </thead>\n",
              "  <tbody>\n",
              "    <tr>\n",
              "      <th>2020-04-29</th>\n",
              "      <td>New York</td>\n",
              "      <td>36</td>\n",
              "      <td>299722</td>\n",
              "      <td>18015</td>\n",
              "    </tr>\n",
              "    <tr>\n",
              "      <th>2020-04-28</th>\n",
              "      <td>New York</td>\n",
              "      <td>36</td>\n",
              "      <td>295137</td>\n",
              "      <td>17638</td>\n",
              "    </tr>\n",
              "    <tr>\n",
              "      <th>2020-04-29</th>\n",
              "      <td>New Jersey</td>\n",
              "      <td>34</td>\n",
              "      <td>116264</td>\n",
              "      <td>6770</td>\n",
              "    </tr>\n",
              "    <tr>\n",
              "      <th>2020-04-28</th>\n",
              "      <td>New Jersey</td>\n",
              "      <td>34</td>\n",
              "      <td>113856</td>\n",
              "      <td>6442</td>\n",
              "    </tr>\n",
              "    <tr>\n",
              "      <th>2020-04-29</th>\n",
              "      <td>Michigan</td>\n",
              "      <td>26</td>\n",
              "      <td>40360</td>\n",
              "      <td>3670</td>\n",
              "    </tr>\n",
              "    <tr>\n",
              "      <th>2020-04-28</th>\n",
              "      <td>Michigan</td>\n",
              "      <td>26</td>\n",
              "      <td>39234</td>\n",
              "      <td>3566</td>\n",
              "    </tr>\n",
              "    <tr>\n",
              "      <th>2020-04-29</th>\n",
              "      <td>Massachusetts</td>\n",
              "      <td>25</td>\n",
              "      <td>60265</td>\n",
              "      <td>3405</td>\n",
              "    </tr>\n",
              "    <tr>\n",
              "      <th>2020-04-28</th>\n",
              "      <td>Massachusetts</td>\n",
              "      <td>25</td>\n",
              "      <td>58302</td>\n",
              "      <td>3153</td>\n",
              "    </tr>\n",
              "    <tr>\n",
              "      <th>2020-04-29</th>\n",
              "      <td>Pennsylvania</td>\n",
              "      <td>42</td>\n",
              "      <td>46191</td>\n",
              "      <td>2392</td>\n",
              "    </tr>\n",
              "    <tr>\n",
              "      <th>2020-04-29</th>\n",
              "      <td>Illinois</td>\n",
              "      <td>17</td>\n",
              "      <td>50355</td>\n",
              "      <td>2221</td>\n",
              "    </tr>\n",
              "  </tbody>\n",
              "</table>\n",
              "</div>"
            ],
            "text/plain": [
              "                    state  fips   cases  deaths\n",
              "date                                           \n",
              "2020-04-29       New York    36  299722   18015\n",
              "2020-04-28       New York    36  295137   17638\n",
              "2020-04-29     New Jersey    34  116264    6770\n",
              "2020-04-28     New Jersey    34  113856    6442\n",
              "2020-04-29       Michigan    26   40360    3670\n",
              "2020-04-28       Michigan    26   39234    3566\n",
              "2020-04-29  Massachusetts    25   60265    3405\n",
              "2020-04-28  Massachusetts    25   58302    3153\n",
              "2020-04-29   Pennsylvania    42   46191    2392\n",
              "2020-04-29       Illinois    17   50355    2221"
            ]
          },
          "metadata": {
            "tags": []
          },
          "execution_count": 12
        }
      ]
    },
    {
      "cell_type": "code",
      "metadata": {
        "id": "iSgm6078NzVo",
        "colab_type": "code",
        "outputId": "adf7338b-a298-4f0e-9c25-a5e3345577a6",
        "colab": {
          "base_uri": "https://localhost:8080/",
          "height": 34
        }
      },
      "source": [
        "current_df.shape"
      ],
      "execution_count": 0,
      "outputs": [
        {
          "output_type": "execute_result",
          "data": {
            "text/plain": [
              "(110, 4)"
            ]
          },
          "metadata": {
            "tags": []
          },
          "execution_count": 13
        }
      ]
    },
    {
      "cell_type": "code",
      "metadata": {
        "id": "tLmWg3qZOuZ2",
        "colab_type": "code",
        "outputId": "4f99915f-678b-4ba3-c60b-2ce248f7f655",
        "colab": {
          "base_uri": "https://localhost:8080/",
          "height": 187
        }
      },
      "source": [
        "top_ten_states = list(current_df[\"state\"].head(10).values)\n",
        "top_ten_states"
      ],
      "execution_count": 0,
      "outputs": [
        {
          "output_type": "execute_result",
          "data": {
            "text/plain": [
              "['New York',\n",
              " 'New York',\n",
              " 'New Jersey',\n",
              " 'New Jersey',\n",
              " 'Michigan',\n",
              " 'Michigan',\n",
              " 'Massachusetts',\n",
              " 'Massachusetts',\n",
              " 'Pennsylvania',\n",
              " 'Illinois']"
            ]
          },
          "metadata": {
            "tags": []
          },
          "execution_count": 14
        }
      ]
    },
    {
      "cell_type": "code",
      "metadata": {
        "id": "DOFsflOvPD_e",
        "colab_type": "code",
        "colab": {}
      },
      "source": [
        "top_states_df = df[df['state'].isin(top_ten_states)].drop(columns=\"fips\")"
      ],
      "execution_count": 0,
      "outputs": []
    },
    {
      "cell_type": "code",
      "metadata": {
        "id": "4gmoRMAMPNn8",
        "colab_type": "code",
        "outputId": "4c340091-9953-44be-895f-bf5b16ba4829",
        "colab": {
          "base_uri": "https://localhost:8080/",
          "height": 119
        }
      },
      "source": [
        "set(top_states_df.state.values)"
      ],
      "execution_count": 0,
      "outputs": [
        {
          "output_type": "execute_result",
          "data": {
            "text/plain": [
              "{'Illinois',\n",
              " 'Massachusetts',\n",
              " 'Michigan',\n",
              " 'New Jersey',\n",
              " 'New York',\n",
              " 'Pennsylvania'}"
            ]
          },
          "metadata": {
            "tags": []
          },
          "execution_count": 16
        }
      ]
    },
    {
      "cell_type": "markdown",
      "metadata": {
        "id": "7AcpBZfRa8Zl",
        "colab_type": "text"
      },
      "source": [
        "Use Seaborn to create a basic line plot for the top 10 states"
      ]
    },
    {
      "cell_type": "code",
      "metadata": {
        "id": "xvAA_Q6lPVr7",
        "colab_type": "code",
        "outputId": "a5ff7089-eed7-43bf-db3c-8b04d5a12d7e",
        "colab": {
          "base_uri": "https://localhost:8080/",
          "height": 530
        }
      },
      "source": [
        "import seaborn as sns\n",
        "import matplotlib.pyplot as plt\n",
        "\n",
        "plt.figure(figsize=(15,5))\n",
        "ax = sns.lmplot(x=\"cases\", y=\"deaths\",\n",
        "                    height=3.5,\n",
        "                    col=\"state\",\n",
        "                    col_wrap=5,\n",
        "                    hue=\"state\", \n",
        "                    palette=\"Set2\",\n",
        "                    data=top_states_df)\n",
        "ax.fig.subplots_adjust(wspace=.2)"
      ],
      "execution_count": 0,
      "outputs": [
        {
          "output_type": "display_data",
          "data": {
            "text/plain": [
              "<Figure size 1080x360 with 0 Axes>"
            ]
          },
          "metadata": {
            "tags": []
          }
        },
        {
          "output_type": "display_data",
          "data": {
            "image/png": "[encoded data removed]",
            "text/plain": [
              "<Figure size 1260x504 with 6 Axes>"
            ]
          },
          "metadata": {
            "tags": [],
            "needs_background": "light"
          }
        }
      ]
    },
    {
      "cell_type": "code",
      "metadata": {
        "id": "Lvoh2DDoQTwl",
        "colab_type": "code",
        "outputId": "190f5ee8-51e8-48d7-edc8-147a50111d71",
        "colab": {
          "base_uri": "https://localhost:8080/",
          "height": 390
        }
      },
      "source": [
        "top_states_april_current_df = top_states_df.loc[\"2020-04-12\":today].sort_values(by=[\"deaths\", \"cases\"], ascending=False)\n",
        "top_states_april_current_df.head(10)"
      ],
      "execution_count": 0,
      "outputs": [
        {
          "output_type": "execute_result",
          "data": {
            "text/html": [
              "<div>\n",
              "<style scoped>\n",
              "    .dataframe tbody tr th:only-of-type {\n",
              "        vertical-align: middle;\n",
              "    }\n",
              "\n",
              "    .dataframe tbody tr th {\n",
              "        vertical-align: top;\n",
              "    }\n",
              "\n",
              "    .dataframe thead th {\n",
              "        text-align: right;\n",
              "    }\n",
              "</style>\n",
              "<table border=\"1\" class=\"dataframe\">\n",
              "  <thead>\n",
              "    <tr style=\"text-align: right;\">\n",
              "      <th></th>\n",
              "      <th>state</th>\n",
              "      <th>cases</th>\n",
              "      <th>deaths</th>\n",
              "    </tr>\n",
              "    <tr>\n",
              "      <th>date</th>\n",
              "      <th></th>\n",
              "      <th></th>\n",
              "      <th></th>\n",
              "    </tr>\n",
              "  </thead>\n",
              "  <tbody>\n",
              "    <tr>\n",
              "      <th>2020-04-29</th>\n",
              "      <td>New York</td>\n",
              "      <td>299722</td>\n",
              "      <td>18015</td>\n",
              "    </tr>\n",
              "    <tr>\n",
              "      <th>2020-04-28</th>\n",
              "      <td>New York</td>\n",
              "      <td>295137</td>\n",
              "      <td>17638</td>\n",
              "    </tr>\n",
              "    <tr>\n",
              "      <th>2020-04-27</th>\n",
              "      <td>New York</td>\n",
              "      <td>292027</td>\n",
              "      <td>17303</td>\n",
              "    </tr>\n",
              "    <tr>\n",
              "      <th>2020-04-26</th>\n",
              "      <td>New York</td>\n",
              "      <td>288076</td>\n",
              "      <td>16966</td>\n",
              "    </tr>\n",
              "    <tr>\n",
              "      <th>2020-04-25</th>\n",
              "      <td>New York</td>\n",
              "      <td>282174</td>\n",
              "      <td>16599</td>\n",
              "    </tr>\n",
              "    <tr>\n",
              "      <th>2020-04-24</th>\n",
              "      <td>New York</td>\n",
              "      <td>271621</td>\n",
              "      <td>16162</td>\n",
              "    </tr>\n",
              "    <tr>\n",
              "      <th>2020-04-23</th>\n",
              "      <td>New York</td>\n",
              "      <td>263460</td>\n",
              "      <td>15740</td>\n",
              "    </tr>\n",
              "    <tr>\n",
              "      <th>2020-04-22</th>\n",
              "      <td>New York</td>\n",
              "      <td>257246</td>\n",
              "      <td>15302</td>\n",
              "    </tr>\n",
              "    <tr>\n",
              "      <th>2020-04-21</th>\n",
              "      <td>New York</td>\n",
              "      <td>251720</td>\n",
              "      <td>14828</td>\n",
              "    </tr>\n",
              "    <tr>\n",
              "      <th>2020-04-20</th>\n",
              "      <td>New York</td>\n",
              "      <td>247543</td>\n",
              "      <td>14347</td>\n",
              "    </tr>\n",
              "  </tbody>\n",
              "</table>\n",
              "</div>"
            ],
            "text/plain": [
              "               state   cases  deaths\n",
              "date                                \n",
              "2020-04-29  New York  299722   18015\n",
              "2020-04-28  New York  295137   17638\n",
              "2020-04-27  New York  292027   17303\n",
              "2020-04-26  New York  288076   16966\n",
              "2020-04-25  New York  282174   16599\n",
              "2020-04-24  New York  271621   16162\n",
              "2020-04-23  New York  263460   15740\n",
              "2020-04-22  New York  257246   15302\n",
              "2020-04-21  New York  251720   14828\n",
              "2020-04-20  New York  247543   14347"
            ]
          },
          "metadata": {
            "tags": []
          },
          "execution_count": 18
        }
      ]
    },
    {
      "cell_type": "markdown",
      "metadata": {
        "id": "ybJsMeYkbk_s",
        "colab_type": "text"
      },
      "source": [
        "Use another popular graphical tool called Plotly. This shows a scatter plot for the month of April for the top 10 states"
      ]
    },
    {
      "cell_type": "code",
      "metadata": {
        "id": "E7xDXJQbQt19",
        "colab_type": "code",
        "outputId": "abc1096d-e00a-4802-9149-309ec5d6ce77",
        "colab": {
          "base_uri": "https://localhost:8080/",
          "height": 542
        }
      },
      "source": [
        "import plotly.io as pio\n",
        "pio.renderers.default = 'colab'\n",
        "import plotly.express as px\n",
        "fig = px.scatter(top_states_april_current_df, x=top_states_april_current_df.index, y=\"cases\", size=\"deaths\", color=\"state\", facet_col=\"state\")\n",
        "fig.show()"
      ],
      "execution_count": 0,
      "outputs": [
        {
          "output_type": "display_data",
          "data": {
            "text/html": [
              "<html>\n",
              "<head><meta charset=\"utf-8\" /></head>\n",
              "<body>\n",
              "    <div>\n",
              "            <script src=\"https://cdnjs.cloudflare.com/ajax/libs/mathjax/2.7.5/MathJax.js?config=TeX-AMS-MML_SVG\"></script><script type=\"text/javascript\">if (window.MathJax) {MathJax.Hub.Config({SVG: {font: \"STIX-Web\"}});}</script>\n",
              "                <script type=\"text/javascript\">window.PlotlyConfig = {MathJaxConfig: 'local'};</script>\n",
              "        <script src=\"https://cdn.plot.ly/plotly-latest.min.js\"></script>    \n",
              "            <div id=\"6a27997f-7d26-4ade-8b5c-07db2ddb2fa6\" class=\"plotly-graph-div\" style=\"height:525px; width:100%;\"></div>\n",
              "            <script type=\"text/javascript\">\n",
              "                \n",
              "                    window.PLOTLYENV=window.PLOTLYENV || {};\n",
              "                    \n",
              "                if (document.getElementById(\"6a27997f-7d26-4ade-8b5c-07db2ddb2fa6\")) {\n",
              "                    Plotly.newPlot(\n",
              "                        '6a27997f-7d26-4ade-8b5c-07db2ddb2fa6',\n",
              "                        [{\"hoverlabel\": {\"namelength\": 0}, \"hovertemplate\": \"state=New York<br>x=%{x}<br>cases=%{y}<br>deaths=%{marker.size}\", \"legendgroup\": \"state=New York\", \"marker\": {\"color\": \"#636efa\", \"size\": [18015, 17638, 17303, 16966, 16599, 16162, 15740, 15302, 14828, 14347, 13869, 13362, 12822, 12192, 11586, 10834, 10056, 9385], \"sizemode\": \"area\", \"sizeref\": 45.0375, \"symbol\": \"circle\"}, \"mode\": \"markers\", \"name\": \"state=New York\", \"showlegend\": true, \"type\": \"scatter\", \"x\": [\"2020-04-29T00:00:00\", \"2020-04-28T00:00:00\", \"2020-04-27T00:00:00\", \"2020-04-26T00:00:00\", \"2020-04-25T00:00:00\", \"2020-04-24T00:00:00\", \"2020-04-23T00:00:00\", \"2020-04-22T00:00:00\", \"2020-04-21T00:00:00\", \"2020-04-20T00:00:00\", \"2020-04-19T00:00:00\", \"2020-04-18T00:00:00\", \"2020-04-17T00:00:00\", \"2020-04-16T00:00:00\", \"2020-04-15T00:00:00\", \"2020-04-14T00:00:00\", \"2020-04-13T00:00:00\", \"2020-04-12T00:00:00\"], \"xaxis\": \"x\", \"y\": [299722, 295137, 292027, 288076, 282174, 271621, 263460, 257246, 251720, 247543, 242817, 236763, 229642, 222284, 213779, 202208, 195031, 188694], \"yaxis\": \"y\"}, {\"hoverlabel\": {\"namelength\": 0}, \"hovertemplate\": \"state=New Jersey<br>x=%{x}<br>cases=%{y}<br>deaths=%{marker.size}\", \"legendgroup\": \"state=New Jersey\", \"marker\": {\"color\": \"#EF553B\", \"size\": [6770, 6442, 6044, 5938, 5863, 5617, 5368, 5063, 4753, 4377, 4202, 4070, 3840, 3518, 3156, 2805, 2443, 2350], \"sizemode\": \"area\", \"sizeref\": 45.0375, \"symbol\": \"circle\"}, \"mode\": \"markers\", \"name\": \"state=New Jersey\", \"showlegend\": true, \"type\": \"scatter\", \"x\": [\"2020-04-29T00:00:00\", \"2020-04-28T00:00:00\", \"2020-04-27T00:00:00\", \"2020-04-26T00:00:00\", \"2020-04-25T00:00:00\", \"2020-04-24T00:00:00\", \"2020-04-23T00:00:00\", \"2020-04-22T00:00:00\", \"2020-04-21T00:00:00\", \"2020-04-20T00:00:00\", \"2020-04-19T00:00:00\", \"2020-04-18T00:00:00\", \"2020-04-17T00:00:00\", \"2020-04-16T00:00:00\", \"2020-04-15T00:00:00\", \"2020-04-14T00:00:00\", \"2020-04-13T00:00:00\", \"2020-04-12T00:00:00\"], \"xaxis\": \"x2\", \"y\": [116264, 113856, 111188, 109038, 105523, 102196, 99989, 95865, 92387, 88806, 85301, 81420, 78467, 75317, 71030, 68824, 64584, 61850], \"yaxis\": \"y2\"}, {\"hoverlabel\": {\"namelength\": 0}, \"hovertemplate\": \"state=Michigan<br>x=%{x}<br>cases=%{y}<br>deaths=%{marker.size}\", \"legendgroup\": \"state=Michigan\", \"marker\": {\"color\": \"#00cc96\", \"size\": [3670, 3566, 3406, 3314, 3273, 3084, 2977, 2812, 2698, 2466, 2389, 2307, 2226, 2091, 1919, 1766, 1601, 1486], \"sizemode\": \"area\", \"sizeref\": 45.0375, \"symbol\": \"circle\"}, \"mode\": \"markers\", \"name\": \"state=Michigan\", \"showlegend\": true, \"type\": \"scatter\", \"x\": [\"2020-04-29T00:00:00\", \"2020-04-28T00:00:00\", \"2020-04-27T00:00:00\", \"2020-04-26T00:00:00\", \"2020-04-25T00:00:00\", \"2020-04-24T00:00:00\", \"2020-04-23T00:00:00\", \"2020-04-22T00:00:00\", \"2020-04-21T00:00:00\", \"2020-04-20T00:00:00\", \"2020-04-19T00:00:00\", \"2020-04-18T00:00:00\", \"2020-04-17T00:00:00\", \"2020-04-16T00:00:00\", \"2020-04-15T00:00:00\", \"2020-04-14T00:00:00\", \"2020-04-13T00:00:00\", \"2020-04-12T00:00:00\"], \"xaxis\": \"x3\", \"y\": [40360, 39234, 38190, 37751, 37184, 36627, 35252, 33929, 32935, 31927, 31348, 30717, 29952, 29119, 27893, 26844, 25487, 24494], \"yaxis\": \"y3\"}, {\"hoverlabel\": {\"namelength\": 0}, \"hovertemplate\": \"state=Massachusetts<br>x=%{x}<br>cases=%{y}<br>deaths=%{marker.size}\", \"legendgroup\": \"state=Massachusetts\", \"marker\": {\"color\": \"#ab63fa\", \"size\": [3405, 3153, 3003, 2899, 2730, 2556, 2360, 2182, 1961, 1809, 1706, 1560, 1404, 1245, 1108, 957, 844, 756], \"sizemode\": \"area\", \"sizeref\": 45.0375, \"symbol\": \"circle\"}, \"mode\": \"markers\", \"name\": \"state=Massachusetts\", \"showlegend\": true, \"type\": \"scatter\", \"x\": [\"2020-04-29T00:00:00\", \"2020-04-28T00:00:00\", \"2020-04-27T00:00:00\", \"2020-04-26T00:00:00\", \"2020-04-25T00:00:00\", \"2020-04-24T00:00:00\", \"2020-04-23T00:00:00\", \"2020-04-22T00:00:00\", \"2020-04-21T00:00:00\", \"2020-04-20T00:00:00\", \"2020-04-19T00:00:00\", \"2020-04-18T00:00:00\", \"2020-04-17T00:00:00\", \"2020-04-16T00:00:00\", \"2020-04-15T00:00:00\", \"2020-04-14T00:00:00\", \"2020-04-13T00:00:00\", \"2020-04-12T00:00:00\"], \"xaxis\": \"x4\", \"y\": [60265, 58302, 56462, 54938, 53348, 50969, 46023, 42944, 41199, 39643, 38077, 36372, 34402, 32181, 29918, 28163, 26867, 25475], \"yaxis\": \"y4\"}, {\"hoverlabel\": {\"namelength\": 0}, \"hovertemplate\": \"state=Pennsylvania<br>x=%{x}<br>cases=%{y}<br>deaths=%{marker.size}\", \"legendgroup\": \"state=Pennsylvania\", \"marker\": {\"color\": \"#FFA15A\", \"size\": [2392, 2092, 1946, 1871, 1842, 1786, 1723, 1720, 1620, 1366, 1285, 1150, 1027, 864, 833, 746, 563, 525], \"sizemode\": \"area\", \"sizeref\": 45.0375, \"symbol\": \"circle\"}, \"mode\": \"markers\", \"name\": \"state=Pennsylvania\", \"showlegend\": true, \"type\": \"scatter\", \"x\": [\"2020-04-29T00:00:00\", \"2020-04-28T00:00:00\", \"2020-04-27T00:00:00\", \"2020-04-26T00:00:00\", \"2020-04-25T00:00:00\", \"2020-04-24T00:00:00\", \"2020-04-23T00:00:00\", \"2020-04-22T00:00:00\", \"2020-04-21T00:00:00\", \"2020-04-20T00:00:00\", \"2020-04-19T00:00:00\", \"2020-04-18T00:00:00\", \"2020-04-17T00:00:00\", \"2020-04-16T00:00:00\", \"2020-04-15T00:00:00\", \"2020-04-14T00:00:00\", \"2020-04-13T00:00:00\", \"2020-04-12T00:00:00\"], \"xaxis\": \"x5\", \"y\": [46191, 45323, 43728, 42709, 41626, 40298, 38334, 36763, 35384, 34005, 32992, 31742, 30121, 28314, 26804, 25591, 24295, 22955], \"yaxis\": \"y5\"}, {\"hoverlabel\": {\"namelength\": 0}, \"hovertemplate\": \"state=Illinois<br>x=%{x}<br>cases=%{y}<br>deaths=%{marker.size}\", \"legendgroup\": \"state=Illinois\", \"marker\": {\"color\": \"#19d3f3\", \"size\": [2221, 2132, 1992, 1943, 1884, 1804, 1696, 1577, 1479, 1359, 1302, 1272, 1142, 1081, 958, 878, 800, 727], \"sizemode\": \"area\", \"sizeref\": 45.0375, \"symbol\": \"circle\"}, \"mode\": \"markers\", \"name\": \"state=Illinois\", \"showlegend\": true, \"type\": \"scatter\", \"x\": [\"2020-04-29T00:00:00\", \"2020-04-28T00:00:00\", \"2020-04-27T00:00:00\", \"2020-04-26T00:00:00\", \"2020-04-25T00:00:00\", \"2020-04-24T00:00:00\", \"2020-04-23T00:00:00\", \"2020-04-22T00:00:00\", \"2020-04-21T00:00:00\", \"2020-04-20T00:00:00\", \"2020-04-19T00:00:00\", \"2020-04-18T00:00:00\", \"2020-04-17T00:00:00\", \"2020-04-16T00:00:00\", \"2020-04-15T00:00:00\", \"2020-04-14T00:00:00\", \"2020-04-13T00:00:00\", \"2020-04-12T00:00:00\"], \"xaxis\": \"x6\", \"y\": [50355, 48102, 45883, 43903, 41777, 39658, 36935, 35108, 33059, 31508, 30357, 29160, 27575, 25734, 24593, 23247, 22025, 20852], \"yaxis\": \"y6\"}],\n",
              "                        {\"annotations\": [{\"font\": {}, \"showarrow\": false, \"text\": \"state=New York\", \"x\": 0.075, \"xanchor\": \"center\", \"xref\": \"paper\", \"y\": 1.0, \"yanchor\": \"bottom\", \"yref\": \"paper\"}, {\"font\": {}, \"showarrow\": false, \"text\": \"state=New Jersey\", \"x\": 0.24499999999999997, \"xanchor\": \"center\", \"xref\": \"paper\", \"y\": 1.0, \"yanchor\": \"bottom\", \"yref\": \"paper\"}, {\"font\": {}, \"showarrow\": false, \"text\": \"state=Michigan\", \"x\": 0.415, \"xanchor\": \"center\", \"xref\": \"paper\", \"y\": 1.0, \"yanchor\": \"bottom\", \"yref\": \"paper\"}, {\"font\": {}, \"showarrow\": false, \"text\": \"state=Massachusetts\", \"x\": 0.585, \"xanchor\": \"center\", \"xref\": \"paper\", \"y\": 1.0, \"yanchor\": \"bottom\", \"yref\": \"paper\"}, {\"font\": {}, \"showarrow\": false, \"text\": \"state=Pennsylvania\", \"x\": 0.7549999999999999, \"xanchor\": \"center\", \"xref\": \"paper\", \"y\": 1.0, \"yanchor\": \"bottom\", \"yref\": \"paper\"}, {\"font\": {}, \"showarrow\": false, \"text\": \"state=Illinois\", \"x\": 0.925, \"xanchor\": \"center\", \"xref\": \"paper\", \"y\": 1.0, \"yanchor\": \"bottom\", \"yref\": \"paper\"}], \"legend\": {\"itemsizing\": \"constant\", \"tracegroupgap\": 0}, \"margin\": {\"t\": 60}, \"template\": {\"data\": {\"bar\": [{\"error_x\": {\"color\": \"#2a3f5f\"}, \"error_y\": {\"color\": \"#2a3f5f\"}, \"marker\": {\"line\": {\"color\": \"#E5ECF6\", \"width\": 0.5}}, \"type\": \"bar\"}], \"barpolar\": [{\"marker\": {\"line\": {\"color\": \"#E5ECF6\", \"width\": 0.5}}, \"type\": \"barpolar\"}], \"carpet\": [{\"aaxis\": {\"endlinecolor\": \"#2a3f5f\", \"gridcolor\": \"white\", \"linecolor\": \"white\", \"minorgridcolor\": \"white\", \"startlinecolor\": \"#2a3f5f\"}, \"baxis\": {\"endlinecolor\": \"#2a3f5f\", \"gridcolor\": \"white\", \"linecolor\": \"white\", \"minorgridcolor\": \"white\", \"startlinecolor\": \"#2a3f5f\"}, \"type\": \"carpet\"}], \"choropleth\": [{\"colorbar\": {\"outlinewidth\": 0, \"ticks\": \"\"}, \"type\": \"choropleth\"}], \"contour\": [{\"colorbar\": {\"outlinewidth\": 0, \"ticks\": \"\"}, \"colorscale\": [[0.0, \"#0d0887\"], [0.1111111111111111, \"#46039f\"], [0.2222222222222222, \"#7201a8\"], [0.3333333333333333, \"#9c179e\"], [0.4444444444444444, \"#bd3786\"], [0.5555555555555556, \"#d8576b\"], [0.6666666666666666, \"#ed7953\"], [0.7777777777777778, \"#fb9f3a\"], [0.8888888888888888, \"#fdca26\"], [1.0, \"#f0f921\"]], \"type\": \"contour\"}], \"contourcarpet\": [{\"colorbar\": {\"outlinewidth\": 0, \"ticks\": \"\"}, \"type\": \"contourcarpet\"}], \"heatmap\": [{\"colorbar\": {\"outlinewidth\": 0, \"ticks\": \"\"}, \"colorscale\": [[0.0, \"#0d0887\"], [0.1111111111111111, \"#46039f\"], [0.2222222222222222, \"#7201a8\"], [0.3333333333333333, \"#9c179e\"], [0.4444444444444444, \"#bd3786\"], [0.5555555555555556, \"#d8576b\"], [0.6666666666666666, \"#ed7953\"], [0.7777777777777778, \"#fb9f3a\"], [0.8888888888888888, \"#fdca26\"], [1.0, \"#f0f921\"]], \"type\": \"heatmap\"}], \"heatmapgl\": [{\"colorbar\": {\"outlinewidth\": 0, \"ticks\": \"\"}, \"colorscale\": [[0.0, \"#0d0887\"], [0.1111111111111111, \"#46039f\"], [0.2222222222222222, \"#7201a8\"], [0.3333333333333333, \"#9c179e\"], [0.4444444444444444, \"#bd3786\"], [0.5555555555555556, \"#d8576b\"], [0.6666666666666666, \"#ed7953\"], [0.7777777777777778, \"#fb9f3a\"], [0.8888888888888888, \"#fdca26\"], [1.0, \"#f0f921\"]], \"type\": \"heatmapgl\"}], \"histogram\": [{\"marker\": {\"colorbar\": {\"outlinewidth\": 0, \"ticks\": \"\"}}, \"type\": \"histogram\"}], \"histogram2d\": [{\"colorbar\": {\"outlinewidth\": 0, \"ticks\": \"\"}, \"colorscale\": [[0.0, \"#0d0887\"], [0.1111111111111111, \"#46039f\"], [0.2222222222222222, \"#7201a8\"], [0.3333333333333333, \"#9c179e\"], [0.4444444444444444, \"#bd3786\"], [0.5555555555555556, \"#d8576b\"], [0.6666666666666666, \"#ed7953\"], [0.7777777777777778, \"#fb9f3a\"], [0.8888888888888888, \"#fdca26\"], [1.0, \"#f0f921\"]], \"type\": \"histogram2d\"}], \"histogram2dcontour\": [{\"colorbar\": {\"outlinewidth\": 0, \"ticks\": \"\"}, \"colorscale\": [[0.0, \"#0d0887\"], [0.1111111111111111, \"#46039f\"], [0.2222222222222222, \"#7201a8\"], [0.3333333333333333, \"#9c179e\"], [0.4444444444444444, \"#bd3786\"], [0.5555555555555556, \"#d8576b\"], [0.6666666666666666, \"#ed7953\"], [0.7777777777777778, \"#fb9f3a\"], [0.8888888888888888, \"#fdca26\"], [1.0, \"#f0f921\"]], \"type\": \"histogram2dcontour\"}], \"mesh3d\": [{\"colorbar\": {\"outlinewidth\": 0, \"ticks\": \"\"}, \"type\": \"mesh3d\"}], \"parcoords\": [{\"line\": {\"colorbar\": {\"outlinewidth\": 0, \"ticks\": \"\"}}, \"type\": \"parcoords\"}], \"pie\": [{\"automargin\": true, \"type\": \"pie\"}], \"scatter\": [{\"marker\": {\"colorbar\": {\"outlinewidth\": 0, \"ticks\": \"\"}}, \"type\": \"scatter\"}], \"scatter3d\": [{\"line\": {\"colorbar\": {\"outlinewidth\": 0, \"ticks\": \"\"}}, \"marker\": {\"colorbar\": {\"outlinewidth\": 0, \"ticks\": \"\"}}, \"type\": \"scatter3d\"}], \"scattercarpet\": [{\"marker\": {\"colorbar\": {\"outlinewidth\": 0, \"ticks\": \"\"}}, \"type\": \"scattercarpet\"}], \"scattergeo\": [{\"marker\": {\"colorbar\": {\"outlinewidth\": 0, \"ticks\": \"\"}}, \"type\": \"scattergeo\"}], \"scattergl\": [{\"marker\": {\"colorbar\": {\"outlinewidth\": 0, \"ticks\": \"\"}}, \"type\": \"scattergl\"}], \"scattermapbox\": [{\"marker\": {\"colorbar\": {\"outlinewidth\": 0, \"ticks\": \"\"}}, \"type\": \"scattermapbox\"}], \"scatterpolar\": [{\"marker\": {\"colorbar\": {\"outlinewidth\": 0, \"ticks\": \"\"}}, \"type\": \"scatterpolar\"}], \"scatterpolargl\": [{\"marker\": {\"colorbar\": {\"outlinewidth\": 0, \"ticks\": \"\"}}, \"type\": \"scatterpolargl\"}], \"scatterternary\": [{\"marker\": {\"colorbar\": {\"outlinewidth\": 0, \"ticks\": \"\"}}, \"type\": \"scatterternary\"}], \"surface\": [{\"colorbar\": {\"outlinewidth\": 0, \"ticks\": \"\"}, \"colorscale\": [[0.0, \"#0d0887\"], [0.1111111111111111, \"#46039f\"], [0.2222222222222222, \"#7201a8\"], [0.3333333333333333, \"#9c179e\"], [0.4444444444444444, \"#bd3786\"], [0.5555555555555556, \"#d8576b\"], [0.6666666666666666, \"#ed7953\"], [0.7777777777777778, \"#fb9f3a\"], [0.8888888888888888, \"#fdca26\"], [1.0, \"#f0f921\"]], \"type\": \"surface\"}], \"table\": [{\"cells\": {\"fill\": {\"color\": \"#EBF0F8\"}, \"line\": {\"color\": \"white\"}}, \"header\": {\"fill\": {\"color\": \"#C8D4E3\"}, \"line\": {\"color\": \"white\"}}, \"type\": \"table\"}]}, \"layout\": {\"annotationdefaults\": {\"arrowcolor\": \"#2a3f5f\", \"arrowhead\": 0, \"arrowwidth\": 1}, \"coloraxis\": {\"colorbar\": {\"outlinewidth\": 0, \"ticks\": \"\"}}, \"colorscale\": {\"diverging\": [[0, \"#8e0152\"], [0.1, \"#c51b7d\"], [0.2, \"#de77ae\"], [0.3, \"#f1b6da\"], [0.4, \"#fde0ef\"], [0.5, \"#f7f7f7\"], [0.6, \"#e6f5d0\"], [0.7, \"#b8e186\"], [0.8, \"#7fbc41\"], [0.9, \"#4d9221\"], [1, \"#276419\"]], \"sequential\": [[0.0, \"#0d0887\"], [0.1111111111111111, \"#46039f\"], [0.2222222222222222, \"#7201a8\"], [0.3333333333333333, \"#9c179e\"], [0.4444444444444444, \"#bd3786\"], [0.5555555555555556, \"#d8576b\"], [0.6666666666666666, \"#ed7953\"], [0.7777777777777778, \"#fb9f3a\"], [0.8888888888888888, \"#fdca26\"], [1.0, \"#f0f921\"]], \"sequentialminus\": [[0.0, \"#0d0887\"], [0.1111111111111111, \"#46039f\"], [0.2222222222222222, \"#7201a8\"], [0.3333333333333333, \"#9c179e\"], [0.4444444444444444, \"#bd3786\"], [0.5555555555555556, \"#d8576b\"], [0.6666666666666666, \"#ed7953\"], [0.7777777777777778, \"#fb9f3a\"], [0.8888888888888888, \"#fdca26\"], [1.0, \"#f0f921\"]]}, \"colorway\": [\"#636efa\", \"#EF553B\", \"#00cc96\", \"#ab63fa\", \"#FFA15A\", \"#19d3f3\", \"#FF6692\", \"#B6E880\", \"#FF97FF\", \"#FECB52\"], \"font\": {\"color\": \"#2a3f5f\"}, \"geo\": {\"bgcolor\": \"white\", \"lakecolor\": \"white\", \"landcolor\": \"#E5ECF6\", \"showlakes\": true, \"showland\": true, \"subunitcolor\": \"white\"}, \"hoverlabel\": {\"align\": \"left\"}, \"hovermode\": \"closest\", \"mapbox\": {\"style\": \"light\"}, \"paper_bgcolor\": \"white\", \"plot_bgcolor\": \"#E5ECF6\", \"polar\": {\"angularaxis\": {\"gridcolor\": \"white\", \"linecolor\": \"white\", \"ticks\": \"\"}, \"bgcolor\": \"#E5ECF6\", \"radialaxis\": {\"gridcolor\": \"white\", \"linecolor\": \"white\", \"ticks\": \"\"}}, \"scene\": {\"xaxis\": {\"backgroundcolor\": \"#E5ECF6\", \"gridcolor\": \"white\", \"gridwidth\": 2, \"linecolor\": \"white\", \"showbackground\": true, \"ticks\": \"\", \"zerolinecolor\": \"white\"}, \"yaxis\": {\"backgroundcolor\": \"#E5ECF6\", \"gridcolor\": \"white\", \"gridwidth\": 2, \"linecolor\": \"white\", \"showbackground\": true, \"ticks\": \"\", \"zerolinecolor\": \"white\"}, \"zaxis\": {\"backgroundcolor\": \"#E5ECF6\", \"gridcolor\": \"white\", \"gridwidth\": 2, \"linecolor\": \"white\", \"showbackground\": true, \"ticks\": \"\", \"zerolinecolor\": \"white\"}}, \"shapedefaults\": {\"line\": {\"color\": \"#2a3f5f\"}}, \"ternary\": {\"aaxis\": {\"gridcolor\": \"white\", \"linecolor\": \"white\", \"ticks\": \"\"}, \"baxis\": {\"gridcolor\": \"white\", \"linecolor\": \"white\", \"ticks\": \"\"}, \"bgcolor\": \"#E5ECF6\", \"caxis\": {\"gridcolor\": \"white\", \"linecolor\": \"white\", \"ticks\": \"\"}}, \"title\": {\"x\": 0.05}, \"xaxis\": {\"automargin\": true, \"gridcolor\": \"white\", \"linecolor\": \"white\", \"ticks\": \"\", \"title\": {\"standoff\": 15}, \"zerolinecolor\": \"white\", \"zerolinewidth\": 2}, \"yaxis\": {\"automargin\": true, \"gridcolor\": \"white\", \"linecolor\": \"white\", \"ticks\": \"\", \"title\": {\"standoff\": 15}, \"zerolinecolor\": \"white\", \"zerolinewidth\": 2}}}, \"xaxis\": {\"anchor\": \"y\", \"domain\": [0.0, 0.15], \"title\": {\"text\": \"x\"}}, \"xaxis2\": {\"anchor\": \"y2\", \"domain\": [0.16999999999999998, 0.31999999999999995], \"matches\": \"x\", \"title\": {\"text\": \"x\"}}, \"xaxis3\": {\"anchor\": \"y3\", \"domain\": [0.33999999999999997, 0.49], \"matches\": \"x\", \"title\": {\"text\": \"x\"}}, \"xaxis4\": {\"anchor\": \"y4\", \"domain\": [0.51, 0.66], \"matches\": \"x\", \"title\": {\"text\": \"x\"}}, \"xaxis5\": {\"anchor\": \"y5\", \"domain\": [0.6799999999999999, 0.83], \"matches\": \"x\", \"title\": {\"text\": \"x\"}}, \"xaxis6\": {\"anchor\": \"y6\", \"domain\": [0.85, 1.0], \"matches\": \"x\", \"title\": {\"text\": \"x\"}}, \"yaxis\": {\"anchor\": \"x\", \"domain\": [0.0, 1.0], \"title\": {\"text\": \"cases\"}}, \"yaxis2\": {\"anchor\": \"x2\", \"domain\": [0.0, 1.0], \"matches\": \"y\", \"showticklabels\": false}, \"yaxis3\": {\"anchor\": \"x3\", \"domain\": [0.0, 1.0], \"matches\": \"y\", \"showticklabels\": false}, \"yaxis4\": {\"anchor\": \"x4\", \"domain\": [0.0, 1.0], \"matches\": \"y\", \"showticklabels\": false}, \"yaxis5\": {\"anchor\": \"x5\", \"domain\": [0.0, 1.0], \"matches\": \"y\", \"showticklabels\": false}, \"yaxis6\": {\"anchor\": \"x6\", \"domain\": [0.0, 1.0], \"matches\": \"y\", \"showticklabels\": false}},\n",
              "                        {\"responsive\": true}\n",
              "                    ).then(function(){\n",
              "                            \n",
              "var gd = document.getElementById('6a27997f-7d26-4ade-8b5c-07db2ddb2fa6');\n",
              "var x = new MutationObserver(function (mutations, observer) {{\n",
              "        var display = window.getComputedStyle(gd).display;\n",
              "        if (!display || display === 'none') {{\n",
              "            console.log([gd, 'removed!']);\n",
              "            Plotly.purge(gd);\n",
              "            observer.disconnect();\n",
              "        }}\n",
              "}});\n",
              "\n",
              "// Listen for the removal of the full notebook cells\n",
              "var notebookContainer = gd.closest('#notebook-container');\n",
              "if (notebookContainer) {{\n",
              "    x.observe(notebookContainer, {childList: true});\n",
              "}}\n",
              "\n",
              "// Listen for the clearing of the current output cell\n",
              "var outputEl = gd.closest('.output');\n",
              "if (outputEl) {{\n",
              "    x.observe(outputEl, {childList: true});\n",
              "}}\n",
              "\n",
              "                        })\n",
              "                };\n",
              "                \n",
              "            </script>\n",
              "        </div>\n",
              "</body>\n",
              "</html>"
            ]
          },
          "metadata": {
            "tags": []
          }
        }
      ]
    },
    {
      "cell_type": "markdown",
      "metadata": {
        "id": "FsWx0B8DiAEz",
        "colab_type": "text"
      },
      "source": [
        "Import State Level Data for Hawaii from national dataset"
      ]
    },
    {
      "cell_type": "code",
      "metadata": {
        "id": "iXcnT6sxerrP",
        "colab_type": "code",
        "outputId": "f896751e-ba35-4465-b17a-c07b13a11b9c",
        "colab": {
          "base_uri": "https://localhost:8080/",
          "height": 514
        }
      },
      "source": [
        "import pandas as pd\n",
        "df = pd.read_csv(\"https://raw.githubusercontent.com/nytimes/covid-19-data/master/us-states.csv\")\n",
        "Hawaii_df = df[df[\"state\"] == \"Hawaii\"].drop(columns=\"fips\").drop(columns=\"state\")\n",
        "Hawaii_df.tail(15)"
      ],
      "execution_count": 0,
      "outputs": [
        {
          "output_type": "execute_result",
          "data": {
            "text/html": [
              "<div>\n",
              "<style scoped>\n",
              "    .dataframe tbody tr th:only-of-type {\n",
              "        vertical-align: middle;\n",
              "    }\n",
              "\n",
              "    .dataframe tbody tr th {\n",
              "        vertical-align: top;\n",
              "    }\n",
              "\n",
              "    .dataframe thead th {\n",
              "        text-align: right;\n",
              "    }\n",
              "</style>\n",
              "<table border=\"1\" class=\"dataframe\">\n",
              "  <thead>\n",
              "    <tr style=\"text-align: right;\">\n",
              "      <th></th>\n",
              "      <th>date</th>\n",
              "      <th>cases</th>\n",
              "      <th>deaths</th>\n",
              "    </tr>\n",
              "  </thead>\n",
              "  <tbody>\n",
              "    <tr>\n",
              "      <th>2391</th>\n",
              "      <td>2020-04-15</td>\n",
              "      <td>524</td>\n",
              "      <td>9</td>\n",
              "    </tr>\n",
              "    <tr>\n",
              "      <th>2446</th>\n",
              "      <td>2020-04-16</td>\n",
              "      <td>535</td>\n",
              "      <td>9</td>\n",
              "    </tr>\n",
              "    <tr>\n",
              "      <th>2501</th>\n",
              "      <td>2020-04-17</td>\n",
              "      <td>547</td>\n",
              "      <td>9</td>\n",
              "    </tr>\n",
              "    <tr>\n",
              "      <th>2556</th>\n",
              "      <td>2020-04-18</td>\n",
              "      <td>568</td>\n",
              "      <td>9</td>\n",
              "    </tr>\n",
              "    <tr>\n",
              "      <th>2611</th>\n",
              "      <td>2020-04-19</td>\n",
              "      <td>574</td>\n",
              "      <td>10</td>\n",
              "    </tr>\n",
              "    <tr>\n",
              "      <th>2666</th>\n",
              "      <td>2020-04-20</td>\n",
              "      <td>578</td>\n",
              "      <td>10</td>\n",
              "    </tr>\n",
              "    <tr>\n",
              "      <th>2721</th>\n",
              "      <td>2020-04-21</td>\n",
              "      <td>580</td>\n",
              "      <td>12</td>\n",
              "    </tr>\n",
              "    <tr>\n",
              "      <th>2776</th>\n",
              "      <td>2020-04-22</td>\n",
              "      <td>586</td>\n",
              "      <td>12</td>\n",
              "    </tr>\n",
              "    <tr>\n",
              "      <th>2831</th>\n",
              "      <td>2020-04-23</td>\n",
              "      <td>590</td>\n",
              "      <td>12</td>\n",
              "    </tr>\n",
              "    <tr>\n",
              "      <th>2886</th>\n",
              "      <td>2020-04-24</td>\n",
              "      <td>595</td>\n",
              "      <td>13</td>\n",
              "    </tr>\n",
              "    <tr>\n",
              "      <th>2941</th>\n",
              "      <td>2020-04-25</td>\n",
              "      <td>597</td>\n",
              "      <td>14</td>\n",
              "    </tr>\n",
              "    <tr>\n",
              "      <th>2996</th>\n",
              "      <td>2020-04-26</td>\n",
              "      <td>599</td>\n",
              "      <td>14</td>\n",
              "    </tr>\n",
              "    <tr>\n",
              "      <th>3051</th>\n",
              "      <td>2020-04-27</td>\n",
              "      <td>600</td>\n",
              "      <td>16</td>\n",
              "    </tr>\n",
              "    <tr>\n",
              "      <th>3106</th>\n",
              "      <td>2020-04-28</td>\n",
              "      <td>602</td>\n",
              "      <td>16</td>\n",
              "    </tr>\n",
              "    <tr>\n",
              "      <th>3161</th>\n",
              "      <td>2020-04-29</td>\n",
              "      <td>605</td>\n",
              "      <td>16</td>\n",
              "    </tr>\n",
              "  </tbody>\n",
              "</table>\n",
              "</div>"
            ],
            "text/plain": [
              "            date  cases  deaths\n",
              "2391  2020-04-15    524       9\n",
              "2446  2020-04-16    535       9\n",
              "2501  2020-04-17    547       9\n",
              "2556  2020-04-18    568       9\n",
              "2611  2020-04-19    574      10\n",
              "2666  2020-04-20    578      10\n",
              "2721  2020-04-21    580      12\n",
              "2776  2020-04-22    586      12\n",
              "2831  2020-04-23    590      12\n",
              "2886  2020-04-24    595      13\n",
              "2941  2020-04-25    597      14\n",
              "2996  2020-04-26    599      14\n",
              "3051  2020-04-27    600      16\n",
              "3106  2020-04-28    602      16\n",
              "3161  2020-04-29    605      16"
            ]
          },
          "metadata": {
            "tags": []
          },
          "execution_count": 20
        }
      ]
    },
    {
      "cell_type": "markdown",
      "metadata": {
        "id": "MZvYQpMwfYig",
        "colab_type": "text"
      },
      "source": [
        "Import County Level Data for Hawaii from county dataset"
      ]
    },
    {
      "cell_type": "code",
      "metadata": {
        "id": "WRSNLaNAiJ1i",
        "colab_type": "code",
        "outputId": "7fd90596-8712-4332-cbae-b567808c06b9",
        "colab": {
          "base_uri": "https://localhost:8080/",
          "height": 514
        }
      },
      "source": [
        "import pandas as pd\n",
        "df = pd.read_csv(\"https://raw.githubusercontent.com/nytimes/covid-19-data/master/us-counties.csv\")\n",
        "df = df[df[\"state\"] == \"Hawaii\"].drop(columns=\"fips\").drop(columns=\"state\")\n",
        "df.tail(15)"
      ],
      "execution_count": 0,
      "outputs": [
        {
          "output_type": "execute_result",
          "data": {
            "text/html": [
              "<div>\n",
              "<style scoped>\n",
              "    .dataframe tbody tr th:only-of-type {\n",
              "        vertical-align: middle;\n",
              "    }\n",
              "\n",
              "    .dataframe tbody tr th {\n",
              "        vertical-align: top;\n",
              "    }\n",
              "\n",
              "    .dataframe thead th {\n",
              "        text-align: right;\n",
              "    }\n",
              "</style>\n",
              "<table border=\"1\" class=\"dataframe\">\n",
              "  <thead>\n",
              "    <tr style=\"text-align: right;\">\n",
              "      <th></th>\n",
              "      <th>date</th>\n",
              "      <th>county</th>\n",
              "      <th>cases</th>\n",
              "      <th>deaths</th>\n",
              "    </tr>\n",
              "  </thead>\n",
              "  <tbody>\n",
              "    <tr>\n",
              "      <th>90290</th>\n",
              "      <td>2020-04-26</td>\n",
              "      <td>Honolulu</td>\n",
              "      <td>396</td>\n",
              "      <td>9</td>\n",
              "    </tr>\n",
              "    <tr>\n",
              "      <th>90291</th>\n",
              "      <td>2020-04-26</td>\n",
              "      <td>Kauai</td>\n",
              "      <td>21</td>\n",
              "      <td>0</td>\n",
              "    </tr>\n",
              "    <tr>\n",
              "      <th>90292</th>\n",
              "      <td>2020-04-26</td>\n",
              "      <td>Maui</td>\n",
              "      <td>112</td>\n",
              "      <td>5</td>\n",
              "    </tr>\n",
              "    <tr>\n",
              "      <th>93109</th>\n",
              "      <td>2020-04-27</td>\n",
              "      <td>Hawaii</td>\n",
              "      <td>70</td>\n",
              "      <td>0</td>\n",
              "    </tr>\n",
              "    <tr>\n",
              "      <th>93110</th>\n",
              "      <td>2020-04-27</td>\n",
              "      <td>Honolulu</td>\n",
              "      <td>396</td>\n",
              "      <td>11</td>\n",
              "    </tr>\n",
              "    <tr>\n",
              "      <th>93111</th>\n",
              "      <td>2020-04-27</td>\n",
              "      <td>Kauai</td>\n",
              "      <td>21</td>\n",
              "      <td>0</td>\n",
              "    </tr>\n",
              "    <tr>\n",
              "      <th>93112</th>\n",
              "      <td>2020-04-27</td>\n",
              "      <td>Maui</td>\n",
              "      <td>113</td>\n",
              "      <td>5</td>\n",
              "    </tr>\n",
              "    <tr>\n",
              "      <th>95940</th>\n",
              "      <td>2020-04-28</td>\n",
              "      <td>Hawaii</td>\n",
              "      <td>70</td>\n",
              "      <td>0</td>\n",
              "    </tr>\n",
              "    <tr>\n",
              "      <th>95941</th>\n",
              "      <td>2020-04-28</td>\n",
              "      <td>Honolulu</td>\n",
              "      <td>396</td>\n",
              "      <td>11</td>\n",
              "    </tr>\n",
              "    <tr>\n",
              "      <th>95942</th>\n",
              "      <td>2020-04-28</td>\n",
              "      <td>Kauai</td>\n",
              "      <td>21</td>\n",
              "      <td>0</td>\n",
              "    </tr>\n",
              "    <tr>\n",
              "      <th>95943</th>\n",
              "      <td>2020-04-28</td>\n",
              "      <td>Maui</td>\n",
              "      <td>115</td>\n",
              "      <td>5</td>\n",
              "    </tr>\n",
              "    <tr>\n",
              "      <th>98781</th>\n",
              "      <td>2020-04-29</td>\n",
              "      <td>Hawaii</td>\n",
              "      <td>70</td>\n",
              "      <td>0</td>\n",
              "    </tr>\n",
              "    <tr>\n",
              "      <th>98782</th>\n",
              "      <td>2020-04-29</td>\n",
              "      <td>Honolulu</td>\n",
              "      <td>399</td>\n",
              "      <td>11</td>\n",
              "    </tr>\n",
              "    <tr>\n",
              "      <th>98783</th>\n",
              "      <td>2020-04-29</td>\n",
              "      <td>Kauai</td>\n",
              "      <td>21</td>\n",
              "      <td>0</td>\n",
              "    </tr>\n",
              "    <tr>\n",
              "      <th>98784</th>\n",
              "      <td>2020-04-29</td>\n",
              "      <td>Maui</td>\n",
              "      <td>115</td>\n",
              "      <td>5</td>\n",
              "    </tr>\n",
              "  </tbody>\n",
              "</table>\n",
              "</div>"
            ],
            "text/plain": [
              "             date    county  cases  deaths\n",
              "90290  2020-04-26  Honolulu    396       9\n",
              "90291  2020-04-26     Kauai     21       0\n",
              "90292  2020-04-26      Maui    112       5\n",
              "93109  2020-04-27    Hawaii     70       0\n",
              "93110  2020-04-27  Honolulu    396      11\n",
              "93111  2020-04-27     Kauai     21       0\n",
              "93112  2020-04-27      Maui    113       5\n",
              "95940  2020-04-28    Hawaii     70       0\n",
              "95941  2020-04-28  Honolulu    396      11\n",
              "95942  2020-04-28     Kauai     21       0\n",
              "95943  2020-04-28      Maui    115       5\n",
              "98781  2020-04-29    Hawaii     70       0\n",
              "98782  2020-04-29  Honolulu    399      11\n",
              "98783  2020-04-29     Kauai     21       0\n",
              "98784  2020-04-29      Maui    115       5"
            ]
          },
          "metadata": {
            "tags": []
          },
          "execution_count": 21
        }
      ]
    },
    {
      "cell_type": "markdown",
      "metadata": {
        "id": "94LEKS_scDFA",
        "colab_type": "text"
      },
      "source": [
        "Create a data frame for Maui County and display data for past 15 days"
      ]
    },
    {
      "cell_type": "code",
      "metadata": {
        "id": "nsoHvLXFpqGC",
        "colab_type": "code",
        "outputId": "761d837b-11eb-4c79-e81d-e0de8946b8e9",
        "colab": {
          "base_uri": "https://localhost:8080/",
          "height": 514
        }
      },
      "source": [
        "Maui_County_df = df[df[\"county\"]== \"Maui\"]\n",
        "Maui_County_df.tail(15)"
      ],
      "execution_count": 0,
      "outputs": [
        {
          "output_type": "execute_result",
          "data": {
            "text/html": [
              "<div>\n",
              "<style scoped>\n",
              "    .dataframe tbody tr th:only-of-type {\n",
              "        vertical-align: middle;\n",
              "    }\n",
              "\n",
              "    .dataframe tbody tr th {\n",
              "        vertical-align: top;\n",
              "    }\n",
              "\n",
              "    .dataframe thead th {\n",
              "        text-align: right;\n",
              "    }\n",
              "</style>\n",
              "<table border=\"1\" class=\"dataframe\">\n",
              "  <thead>\n",
              "    <tr style=\"text-align: right;\">\n",
              "      <th></th>\n",
              "      <th>date</th>\n",
              "      <th>county</th>\n",
              "      <th>cases</th>\n",
              "      <th>deaths</th>\n",
              "    </tr>\n",
              "  </thead>\n",
              "  <tbody>\n",
              "    <tr>\n",
              "      <th>59764</th>\n",
              "      <td>2020-04-15</td>\n",
              "      <td>Maui</td>\n",
              "      <td>92</td>\n",
              "      <td>3</td>\n",
              "    </tr>\n",
              "    <tr>\n",
              "      <th>62488</th>\n",
              "      <td>2020-04-16</td>\n",
              "      <td>Maui</td>\n",
              "      <td>95</td>\n",
              "      <td>3</td>\n",
              "    </tr>\n",
              "    <tr>\n",
              "      <th>65223</th>\n",
              "      <td>2020-04-17</td>\n",
              "      <td>Maui</td>\n",
              "      <td>102</td>\n",
              "      <td>3</td>\n",
              "    </tr>\n",
              "    <tr>\n",
              "      <th>67973</th>\n",
              "      <td>2020-04-18</td>\n",
              "      <td>Maui</td>\n",
              "      <td>104</td>\n",
              "      <td>3</td>\n",
              "    </tr>\n",
              "    <tr>\n",
              "      <th>70735</th>\n",
              "      <td>2020-04-19</td>\n",
              "      <td>Maui</td>\n",
              "      <td>106</td>\n",
              "      <td>4</td>\n",
              "    </tr>\n",
              "    <tr>\n",
              "      <th>73505</th>\n",
              "      <td>2020-04-20</td>\n",
              "      <td>Maui</td>\n",
              "      <td>108</td>\n",
              "      <td>4</td>\n",
              "    </tr>\n",
              "    <tr>\n",
              "      <th>76282</th>\n",
              "      <td>2020-04-21</td>\n",
              "      <td>Maui</td>\n",
              "      <td>110</td>\n",
              "      <td>5</td>\n",
              "    </tr>\n",
              "    <tr>\n",
              "      <th>79065</th>\n",
              "      <td>2020-04-22</td>\n",
              "      <td>Maui</td>\n",
              "      <td>110</td>\n",
              "      <td>5</td>\n",
              "    </tr>\n",
              "    <tr>\n",
              "      <th>81861</th>\n",
              "      <td>2020-04-23</td>\n",
              "      <td>Maui</td>\n",
              "      <td>112</td>\n",
              "      <td>5</td>\n",
              "    </tr>\n",
              "    <tr>\n",
              "      <th>84662</th>\n",
              "      <td>2020-04-24</td>\n",
              "      <td>Maui</td>\n",
              "      <td>113</td>\n",
              "      <td>5</td>\n",
              "    </tr>\n",
              "    <tr>\n",
              "      <th>87473</th>\n",
              "      <td>2020-04-25</td>\n",
              "      <td>Maui</td>\n",
              "      <td>112</td>\n",
              "      <td>5</td>\n",
              "    </tr>\n",
              "    <tr>\n",
              "      <th>90292</th>\n",
              "      <td>2020-04-26</td>\n",
              "      <td>Maui</td>\n",
              "      <td>112</td>\n",
              "      <td>5</td>\n",
              "    </tr>\n",
              "    <tr>\n",
              "      <th>93112</th>\n",
              "      <td>2020-04-27</td>\n",
              "      <td>Maui</td>\n",
              "      <td>113</td>\n",
              "      <td>5</td>\n",
              "    </tr>\n",
              "    <tr>\n",
              "      <th>95943</th>\n",
              "      <td>2020-04-28</td>\n",
              "      <td>Maui</td>\n",
              "      <td>115</td>\n",
              "      <td>5</td>\n",
              "    </tr>\n",
              "    <tr>\n",
              "      <th>98784</th>\n",
              "      <td>2020-04-29</td>\n",
              "      <td>Maui</td>\n",
              "      <td>115</td>\n",
              "      <td>5</td>\n",
              "    </tr>\n",
              "  </tbody>\n",
              "</table>\n",
              "</div>"
            ],
            "text/plain": [
              "             date county  cases  deaths\n",
              "59764  2020-04-15   Maui     92       3\n",
              "62488  2020-04-16   Maui     95       3\n",
              "65223  2020-04-17   Maui    102       3\n",
              "67973  2020-04-18   Maui    104       3\n",
              "70735  2020-04-19   Maui    106       4\n",
              "73505  2020-04-20   Maui    108       4\n",
              "76282  2020-04-21   Maui    110       5\n",
              "79065  2020-04-22   Maui    110       5\n",
              "81861  2020-04-23   Maui    112       5\n",
              "84662  2020-04-24   Maui    113       5\n",
              "87473  2020-04-25   Maui    112       5\n",
              "90292  2020-04-26   Maui    112       5\n",
              "93112  2020-04-27   Maui    113       5\n",
              "95943  2020-04-28   Maui    115       5\n",
              "98784  2020-04-29   Maui    115       5"
            ]
          },
          "metadata": {
            "tags": []
          },
          "execution_count": 22
        }
      ]
    },
    {
      "cell_type": "code",
      "metadata": {
        "colab_type": "code",
        "outputId": "1ef77de8-9151-476f-c16b-f3698721520c",
        "id": "vyUhRWrns5MM",
        "colab": {
          "base_uri": "https://localhost:8080/",
          "height": 296
        }
      },
      "source": [
        "import seaborn as sns\n",
        "sns.scatterplot(x=\"cases\", y=\"deaths\", \n",
        "                hue=\"deaths\",size=\"deaths\", data=Maui_County_df)"
      ],
      "execution_count": 0,
      "outputs": [
        {
          "output_type": "execute_result",
          "data": {
            "text/plain": [
              "<matplotlib.axes._subplots.AxesSubplot at 0x7f96780be4e0>"
            ]
          },
          "metadata": {
            "tags": []
          },
          "execution_count": 23
        },
        {
          "output_type": "display_data",
          "data": {
            "image/png": "[encoded data removed]",
            "text/plain": [
              "<Figure size 432x288 with 1 Axes>"
            ]
          },
          "metadata": {
            "tags": [],
            "needs_background": "light"
          }
        }
      ]
    },
    {
      "cell_type": "code",
      "metadata": {
        "id": "SqY1GM4FqLsB",
        "colab_type": "code",
        "outputId": "59cdd390-8f4d-4874-8acd-d36403b61507",
        "colab": {
          "base_uri": "https://localhost:8080/",
          "height": 278
        }
      },
      "source": [
        "import seaborn as sns\n",
        "import matplotlib.pyplot as plt\n",
        "\n",
        "plt.figure(figsize=(15,5))\n",
        "ax = sns.lmplot(x=\"cases\", y=\"deaths\",\n",
        "                    height=3.5,\n",
        "                    col=\"county\",\n",
        "                    col_wrap=5,\n",
        "                    hue=\"county\", \n",
        "                    palette=\"Set2\",\n",
        "                    data=Maui_County_df)\n",
        "ax.fig.subplots_adjust(wspace=.2)"
      ],
      "execution_count": 0,
      "outputs": [
        {
          "output_type": "display_data",
          "data": {
            "text/plain": [
              "<Figure size 1080x360 with 0 Axes>"
            ]
          },
          "metadata": {
            "tags": []
          }
        },
        {
          "output_type": "display_data",
          "data": {
            "image/png": "[encoded data removed]",
            "text/plain": [
              "<Figure size 1260x252 with 1 Axes>"
            ]
          },
          "metadata": {
            "tags": [],
            "needs_background": "light"
          }
        }
      ]
    },
    {
      "cell_type": "markdown",
      "metadata": {
        "id": "R1CVkmZhcZQp",
        "colab_type": "text"
      },
      "source": [
        "Create a data frame for Honolulu County and display data for past 15 days"
      ]
    },
    {
      "cell_type": "code",
      "metadata": {
        "id": "cJgYJPaey3ip",
        "colab_type": "code",
        "outputId": "ad6bed85-7344-4aa2-f6c9-05f68cb1e144",
        "colab": {
          "base_uri": "https://localhost:8080/",
          "height": 514
        }
      },
      "source": [
        "Honolulu_County_df = df[df[\"county\"]== \"Honolulu\"]\n",
        "Honolulu_County_df.tail(15)"
      ],
      "execution_count": 0,
      "outputs": [
        {
          "output_type": "execute_result",
          "data": {
            "text/html": [
              "<div>\n",
              "<style scoped>\n",
              "    .dataframe tbody tr th:only-of-type {\n",
              "        vertical-align: middle;\n",
              "    }\n",
              "\n",
              "    .dataframe tbody tr th {\n",
              "        vertical-align: top;\n",
              "    }\n",
              "\n",
              "    .dataframe thead th {\n",
              "        text-align: right;\n",
              "    }\n",
              "</style>\n",
              "<table border=\"1\" class=\"dataframe\">\n",
              "  <thead>\n",
              "    <tr style=\"text-align: right;\">\n",
              "      <th></th>\n",
              "      <th>date</th>\n",
              "      <th>county</th>\n",
              "      <th>cases</th>\n",
              "      <th>deaths</th>\n",
              "    </tr>\n",
              "  </thead>\n",
              "  <tbody>\n",
              "    <tr>\n",
              "      <th>59762</th>\n",
              "      <td>2020-04-15</td>\n",
              "      <td>Honolulu</td>\n",
              "      <td>369</td>\n",
              "      <td>6</td>\n",
              "    </tr>\n",
              "    <tr>\n",
              "      <th>62486</th>\n",
              "      <td>2020-04-16</td>\n",
              "      <td>Honolulu</td>\n",
              "      <td>373</td>\n",
              "      <td>6</td>\n",
              "    </tr>\n",
              "    <tr>\n",
              "      <th>65221</th>\n",
              "      <td>2020-04-17</td>\n",
              "      <td>Honolulu</td>\n",
              "      <td>380</td>\n",
              "      <td>6</td>\n",
              "    </tr>\n",
              "    <tr>\n",
              "      <th>67971</th>\n",
              "      <td>2020-04-18</td>\n",
              "      <td>Honolulu</td>\n",
              "      <td>382</td>\n",
              "      <td>6</td>\n",
              "    </tr>\n",
              "    <tr>\n",
              "      <th>70733</th>\n",
              "      <td>2020-04-19</td>\n",
              "      <td>Honolulu</td>\n",
              "      <td>385</td>\n",
              "      <td>6</td>\n",
              "    </tr>\n",
              "    <tr>\n",
              "      <th>73503</th>\n",
              "      <td>2020-04-20</td>\n",
              "      <td>Honolulu</td>\n",
              "      <td>385</td>\n",
              "      <td>6</td>\n",
              "    </tr>\n",
              "    <tr>\n",
              "      <th>76280</th>\n",
              "      <td>2020-04-21</td>\n",
              "      <td>Honolulu</td>\n",
              "      <td>385</td>\n",
              "      <td>7</td>\n",
              "    </tr>\n",
              "    <tr>\n",
              "      <th>79063</th>\n",
              "      <td>2020-04-22</td>\n",
              "      <td>Honolulu</td>\n",
              "      <td>388</td>\n",
              "      <td>7</td>\n",
              "    </tr>\n",
              "    <tr>\n",
              "      <th>81859</th>\n",
              "      <td>2020-04-23</td>\n",
              "      <td>Honolulu</td>\n",
              "      <td>389</td>\n",
              "      <td>7</td>\n",
              "    </tr>\n",
              "    <tr>\n",
              "      <th>84660</th>\n",
              "      <td>2020-04-24</td>\n",
              "      <td>Honolulu</td>\n",
              "      <td>392</td>\n",
              "      <td>8</td>\n",
              "    </tr>\n",
              "    <tr>\n",
              "      <th>87471</th>\n",
              "      <td>2020-04-25</td>\n",
              "      <td>Honolulu</td>\n",
              "      <td>395</td>\n",
              "      <td>9</td>\n",
              "    </tr>\n",
              "    <tr>\n",
              "      <th>90290</th>\n",
              "      <td>2020-04-26</td>\n",
              "      <td>Honolulu</td>\n",
              "      <td>396</td>\n",
              "      <td>9</td>\n",
              "    </tr>\n",
              "    <tr>\n",
              "      <th>93110</th>\n",
              "      <td>2020-04-27</td>\n",
              "      <td>Honolulu</td>\n",
              "      <td>396</td>\n",
              "      <td>11</td>\n",
              "    </tr>\n",
              "    <tr>\n",
              "      <th>95941</th>\n",
              "      <td>2020-04-28</td>\n",
              "      <td>Honolulu</td>\n",
              "      <td>396</td>\n",
              "      <td>11</td>\n",
              "    </tr>\n",
              "    <tr>\n",
              "      <th>98782</th>\n",
              "      <td>2020-04-29</td>\n",
              "      <td>Honolulu</td>\n",
              "      <td>399</td>\n",
              "      <td>11</td>\n",
              "    </tr>\n",
              "  </tbody>\n",
              "</table>\n",
              "</div>"
            ],
            "text/plain": [
              "             date    county  cases  deaths\n",
              "59762  2020-04-15  Honolulu    369       6\n",
              "62486  2020-04-16  Honolulu    373       6\n",
              "65221  2020-04-17  Honolulu    380       6\n",
              "67971  2020-04-18  Honolulu    382       6\n",
              "70733  2020-04-19  Honolulu    385       6\n",
              "73503  2020-04-20  Honolulu    385       6\n",
              "76280  2020-04-21  Honolulu    385       7\n",
              "79063  2020-04-22  Honolulu    388       7\n",
              "81859  2020-04-23  Honolulu    389       7\n",
              "84660  2020-04-24  Honolulu    392       8\n",
              "87471  2020-04-25  Honolulu    395       9\n",
              "90290  2020-04-26  Honolulu    396       9\n",
              "93110  2020-04-27  Honolulu    396      11\n",
              "95941  2020-04-28  Honolulu    396      11\n",
              "98782  2020-04-29  Honolulu    399      11"
            ]
          },
          "metadata": {
            "tags": []
          },
          "execution_count": 25
        }
      ]
    },
    {
      "cell_type": "code",
      "metadata": {
        "id": "buUfij8LzHBL",
        "colab_type": "code",
        "outputId": "80d14212-b162-438a-ff38-4ae9493c3655",
        "colab": {
          "base_uri": "https://localhost:8080/",
          "height": 296
        }
      },
      "source": [
        "import seaborn as sns\n",
        "sns.scatterplot(x=\"cases\", y=\"deaths\", \n",
        "                hue=\"deaths\",size=\"deaths\", data=Honolulu_County_df)"
      ],
      "execution_count": 0,
      "outputs": [
        {
          "output_type": "execute_result",
          "data": {
            "text/plain": [
              "<matplotlib.axes._subplots.AxesSubplot at 0x7f9677fbc0b8>"
            ]
          },
          "metadata": {
            "tags": []
          },
          "execution_count": 26
        },
        {
          "output_type": "display_data",
          "data": {
            "image/png": "[encoded data removed]",
            "text/plain": [
              "<Figure size 432x288 with 1 Axes>"
            ]
          },
          "metadata": {
            "tags": [],
            "needs_background": "light"
          }
        }
      ]
    },
    {
      "cell_type": "code",
      "metadata": {
        "id": "kccrXnr9zP1y",
        "colab_type": "code",
        "outputId": "b55827ef-b947-4eda-a05a-175b53390abf",
        "colab": {
          "base_uri": "https://localhost:8080/",
          "height": 278
        }
      },
      "source": [
        "import seaborn as sns\n",
        "import matplotlib.pyplot as plt\n",
        "\n",
        "plt.figure(figsize=(15,5))\n",
        "ax = sns.lmplot(x=\"cases\", y=\"deaths\",\n",
        "                    height=3.5,\n",
        "                    col=\"county\",\n",
        "                    col_wrap=5,\n",
        "                    hue=\"county\", \n",
        "                    palette=\"Set2\",\n",
        "                    data=Honolulu_County_df)\n",
        "ax.fig.subplots_adjust(wspace=.2)"
      ],
      "execution_count": 0,
      "outputs": [
        {
          "output_type": "display_data",
          "data": {
            "text/plain": [
              "<Figure size 1080x360 with 0 Axes>"
            ]
          },
          "metadata": {
            "tags": []
          }
        },
        {
          "output_type": "display_data",
          "data": {
            "image/png": "[encoded data removed]",
            "text/plain": [
              "<Figure size 1260x252 with 1 Axes>"
            ]
          },
          "metadata": {
            "tags": [],
            "needs_background": "light"
          }
        }
      ]
    },
    {
      "cell_type": "code",
      "metadata": {
        "id": "heByrJ_vXKIs",
        "colab_type": "code",
        "outputId": "522e4156-8f55-484d-f4a5-6d920be8a20d",
        "colab": {
          "base_uri": "https://localhost:8080/",
          "height": 204
        }
      },
      "source": [
        "Kauai_County_df = df[df[\"county\"]== \"Kauai\"]\n",
        "Kauai_County_df.tail()"
      ],
      "execution_count": 0,
      "outputs": [
        {
          "output_type": "execute_result",
          "data": {
            "text/html": [
              "<div>\n",
              "<style scoped>\n",
              "    .dataframe tbody tr th:only-of-type {\n",
              "        vertical-align: middle;\n",
              "    }\n",
              "\n",
              "    .dataframe tbody tr th {\n",
              "        vertical-align: top;\n",
              "    }\n",
              "\n",
              "    .dataframe thead th {\n",
              "        text-align: right;\n",
              "    }\n",
              "</style>\n",
              "<table border=\"1\" class=\"dataframe\">\n",
              "  <thead>\n",
              "    <tr style=\"text-align: right;\">\n",
              "      <th></th>\n",
              "      <th>date</th>\n",
              "      <th>county</th>\n",
              "      <th>cases</th>\n",
              "      <th>deaths</th>\n",
              "    </tr>\n",
              "  </thead>\n",
              "  <tbody>\n",
              "    <tr>\n",
              "      <th>87472</th>\n",
              "      <td>2020-04-25</td>\n",
              "      <td>Kauai</td>\n",
              "      <td>21</td>\n",
              "      <td>0</td>\n",
              "    </tr>\n",
              "    <tr>\n",
              "      <th>90291</th>\n",
              "      <td>2020-04-26</td>\n",
              "      <td>Kauai</td>\n",
              "      <td>21</td>\n",
              "      <td>0</td>\n",
              "    </tr>\n",
              "    <tr>\n",
              "      <th>93111</th>\n",
              "      <td>2020-04-27</td>\n",
              "      <td>Kauai</td>\n",
              "      <td>21</td>\n",
              "      <td>0</td>\n",
              "    </tr>\n",
              "    <tr>\n",
              "      <th>95942</th>\n",
              "      <td>2020-04-28</td>\n",
              "      <td>Kauai</td>\n",
              "      <td>21</td>\n",
              "      <td>0</td>\n",
              "    </tr>\n",
              "    <tr>\n",
              "      <th>98783</th>\n",
              "      <td>2020-04-29</td>\n",
              "      <td>Kauai</td>\n",
              "      <td>21</td>\n",
              "      <td>0</td>\n",
              "    </tr>\n",
              "  </tbody>\n",
              "</table>\n",
              "</div>"
            ],
            "text/plain": [
              "             date county  cases  deaths\n",
              "87472  2020-04-25  Kauai     21       0\n",
              "90291  2020-04-26  Kauai     21       0\n",
              "93111  2020-04-27  Kauai     21       0\n",
              "95942  2020-04-28  Kauai     21       0\n",
              "98783  2020-04-29  Kauai     21       0"
            ]
          },
          "metadata": {
            "tags": []
          },
          "execution_count": 28
        }
      ]
    },
    {
      "cell_type": "code",
      "metadata": {
        "id": "R5IMlLAiQ7ku",
        "colab_type": "code",
        "outputId": "028d743a-b5b6-4eee-9eaf-b6a68621824f",
        "colab": {
          "base_uri": "https://localhost:8080/",
          "height": 296
        }
      },
      "source": [
        "import seaborn as sns\n",
        "sns.scatterplot(x=\"cases\", y=\"deaths\", \n",
        "                hue=\"deaths\",size=\"deaths\", data=Kauai_County_df)"
      ],
      "execution_count": 0,
      "outputs": [
        {
          "output_type": "execute_result",
          "data": {
            "text/plain": [
              "<matplotlib.axes._subplots.AxesSubplot at 0x7f9677f20d68>"
            ]
          },
          "metadata": {
            "tags": []
          },
          "execution_count": 29
        },
        {
          "output_type": "display_data",
          "data": {
            "image/png": "[encoded data removed]",
            "text/plain": [
              "<Figure size 432x288 with 1 Axes>"
            ]
          },
          "metadata": {
            "tags": [],
            "needs_background": "light"
          }
        }
      ]
    }
  ]
}